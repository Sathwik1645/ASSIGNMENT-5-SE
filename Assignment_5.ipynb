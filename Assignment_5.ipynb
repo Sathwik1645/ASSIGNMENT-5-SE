{
  "nbformat": 4,
  "nbformat_minor": 0,
  "metadata": {
    "colab": {
      "provenance": [],
      "authorship_tag": "ABX9TyNd9eAkss12oJgdBthWIPB3",
      "include_colab_link": true
    },
    "kernelspec": {
      "name": "python3",
      "display_name": "Python 3"
    },
    "language_info": {
      "name": "python"
    }
  },
  "cells": [
    {
      "cell_type": "markdown",
      "metadata": {
        "id": "view-in-github",
        "colab_type": "text"
      },
      "source": [
        "<a href=\"https://colab.research.google.com/github/Sathwik1645/ASSIGNMENT-5-SE/blob/main/Assignment_5.ipynb\" target=\"_parent\"><img src=\"https://colab.research.google.com/assets/colab-badge.svg\" alt=\"Open In Colab\"/></a>"
      ]
    },
    {
      "cell_type": "code",
      "execution_count": 1,
      "metadata": {
        "colab": {
          "base_uri": "https://localhost:8080/"
        },
        "id": "wrblu5yYXeqG",
        "outputId": "3dbeaa5a-db4c-4845-ab48-6561cf6b22e4"
      },
      "outputs": [
        {
          "output_type": "stream",
          "name": "stdout",
          "text": [
            "The weather value at 6 hours is: 36.0\n"
          ]
        }
      ],
      "source": [
        "a = 0.5\n",
        "b = -2\n",
        "c = 30\n",
        "\n",
        "time_of_day = 6\n",
        "weather_value = a * time_of_day**2 + b * time_of_day + c\n",
        "\n",
        "print(f\"The weather value at {time_of_day} hours is: {weather_value}\")\n"
      ]
    },
    {
      "cell_type": "code",
      "source": [
        "a = 0.5\n",
        "b = -2\n",
        "c = 30\n",
        "\n",
        "time_of_day = float(input(\"Enter the time of day (in hours): \"))\n",
        "\n",
        "weather_value = a * time_of_day**2 + b * time_of_day + c\n",
        "\n",
        "print(f\"The weather value at {time_of_day} hours is: {weather_value}\")\n"
      ],
      "metadata": {
        "colab": {
          "base_uri": "https://localhost:8080/"
        },
        "id": "mrgcWNsIX43i",
        "outputId": "34d1e17c-4ac0-4590-a8d3-d17ae17e3290"
      },
      "execution_count": 2,
      "outputs": [
        {
          "output_type": "stream",
          "name": "stdout",
          "text": [
            "Enter the time of day (in hours): 5\n",
            "The weather value at 5.0 hours is: 32.5\n"
          ]
        }
      ]
    },
    {
      "cell_type": "code",
      "source": [
        "try:\n",
        "    time_of_day = input(\"Enter the time of day (in hours): \")\n",
        "\n",
        "    if not time_of_day.replace('.', '', 1).isdigit():\n",
        "        raise ValueError(\"The file must contain a valid number.\")\n",
        "\n",
        "    time_of_day = float(time_of_day)\n",
        "\n",
        "    if not (0 <= time_of_day <= 24):\n",
        "        raise ValueError(\"Time of day must be between 0 and 24 hours.\")\n",
        "\n",
        "    a = 0.5\n",
        "    b = -2\n",
        "    c = 30\n",
        "\n",
        "    weather_value = a * time_of_day**2 + b * time_of_day + c\n",
        "\n",
        "    print(f\"The weather value at {time_of_day} hours is: {weather_value:.2f}\")\n",
        "\n",
        "except ValueError as ve:\n",
        "    print(f\"Error: {ve}\")\n",
        "except Exception as e:\n",
        "    print(f\"An unexpected error occurred: {e}\")\n"
      ],
      "metadata": {
        "colab": {
          "base_uri": "https://localhost:8080/"
        },
        "id": "Y60cnKm0ZQot",
        "outputId": "033af31b-0992-4914-ee93-439b06fa0c53"
      },
      "execution_count": 3,
      "outputs": [
        {
          "output_type": "stream",
          "name": "stdout",
          "text": [
            "Enter the time of day (in hours): 6\n",
            "The weather value at 6.0 hours is: 36.00\n"
          ]
        }
      ]
    },
    {
      "cell_type": "code",
      "source": [
        "a = 0.5\n",
        "b = -2\n",
        "c = 30\n",
        "\n",
        "try:\n",
        "    with open(\"time_of_day.txt\", \"r\") as file:\n",
        "        times_of_day = [float(line.strip()) for line in file.readlines()]\n",
        "except FileNotFoundError:\n",
        "    print(\"File 'time_of_day.txt' not found. Creating and populating with sample data.\")\n",
        "    with open(\"time_of_day.txt\", \"w\") as file:\n",
        "        file.write(\"6\\n\")\n",
        "        file.write(\"12\\n\")\n",
        "        file.write(\"18\\n\")\n",
        "    with open(\"time_of_day.txt\", \"r\") as file:\n",
        "        times_of_day = [float(line.strip()) for line in file.readlines()]\n",
        "\n",
        "for time_of_day in times_of_day:\n",
        "    weather_value = a * time_of_day**2 + b * time_of_day + c\n",
        "    print(f\"The weather value at {time_of_day} hours is: {weather_value}\")\n",
        "\n"
      ],
      "metadata": {
        "colab": {
          "base_uri": "https://localhost:8080/"
        },
        "id": "jRfHLizPaB6e",
        "outputId": "9d848549-457b-46f1-a61e-3574afa7f4b7"
      },
      "execution_count": 6,
      "outputs": [
        {
          "output_type": "stream",
          "name": "stdout",
          "text": [
            "The weather value at 6.0 hours is: 36.0\n",
            "The weather value at 12.0 hours is: 78.0\n",
            "The weather value at 18.0 hours is: 156.0\n"
          ]
        }
      ]
    }
  ]
}